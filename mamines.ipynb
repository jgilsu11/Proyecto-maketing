{
 "cells": [
  {
   "cell_type": "code",
   "execution_count": 2,
   "metadata": {},
   "outputs": [],
   "source": [
    "\n",
    "from selenium.webdriver.support.ui import WebDriverWait\n",
    "from selenium.webdriver.common.by import By\n",
    "from selenium.webdriver.support import expected_conditions as EC\n",
    "\n",
    "from selenium import webdriver  \n",
    "from webdriver_manager.chrome import ChromeDriverManager \n",
    "from selenium.webdriver.common.keys import Keys  \n",
    "from selenium.webdriver.support.ui import Select  \n",
    "from selenium.webdriver.support import expected_conditions as EC \n",
    "from time import sleep\n",
    "import pandas as pd\n",
    "from selenium import webdriver\n",
    "\n",
    "from tqdm import tqdm\n",
    "import os\n",
    "from bs4 import BeautifulSoup\n",
    "import requests\n",
    "import numpy as np\n",
    "import re\n"
   ]
  },
  {
   "cell_type": "code",
   "execution_count": 3,
   "metadata": {},
   "outputs": [],
   "source": [
    "url_cats = f\"https://www.maminess.com/categoria/ropa-premama/\"\n",
    "res_cats = requests.get(url_cats)\n",
    "sopa_cats = BeautifulSoup(res_cats.content, \"html.parser\")\n",
    "lista_cats = sopa_cats.findAll(\"ul\", {\"class\" :\"children\"})\n",
    "\n",
    "#<li class=\"cat-item cat-item-15 cat-item-ropa-premama root-item current-cat active cat-parent li_accordion\"><a href=\"javascript:void(0);\" class=\"accordion\" data-class_show=\"pe-7s-plus\" data-class_hide=\"pe-7s-less\"><span class=\"icon pe-7s-less\"></span></a><a href=\"https://www.maminess.com/categoria/ropa-premama/\" data-id=\"15\" class=\"nasa-filter-by-cat nasa-active\">Ropa Premamá</a><ul class=\"children\"><li class=\"cat-item cat-item-232 cat-item-vestidos-monos-premama\"><a href=\"https://www.maminess.com/categoria/ropa-premama/vestidos-monos-premama/\" data-id=\"232\" class=\"nasa-filter-by-cat\">Vestidos y monos Premamá</a></li><li class=\"cat-item cat-item-233 cat-item-tops-premama\"><a href=\"https://www.maminess.com/categoria/ropa-premama/tops-premama/\" data-id=\"233\" class=\"nasa-filter-by-cat\">Tops premamá</a></li><li class=\"cat-item cat-item-234 cat-item-pantalones-premama\"><a href=\"https://www.maminess.com/categoria/ropa-premama/pantalones-premama/\" data-id=\"234\" class=\"nasa-filter-by-cat\">Pantalones y Faldas</a></li><li class=\"cat-item cat-item-236 cat-item-banadores\"><a href=\"https://www.maminess.com/categoria/ropa-premama/banadores/\" data-id=\"236\" class=\"nasa-filter-by-cat\">Bañadores</a></li><li class=\"cat-item cat-item-237 cat-item-vestidos-fiesta-premama\"><a href=\"https://www.maminess.com/categoria/ropa-premama/vestidos-fiesta-premama/\" data-id=\"237\" class=\"nasa-filter-by-cat\">Vestidos de Fiesta</a></li><li class=\"cat-item cat-item-291 cat-item-pijamas-y-camisones\"><a href=\"https://www.maminess.com/categoria/ropa-premama/pijamas-y-camisones/\" data-id=\"291\" class=\"nasa-filter-by-cat\">Pijamas y Camisones</a></li><li class=\"cat-item cat-item-306 cat-item-promocion-hasta-60\"><a href=\"https://www.maminess.com/categoria/ropa-premama/promocion-hasta-60/\" data-id=\"306\" class=\"nasa-filter-by-cat\">Promo hasta -60%</a></li></ul></li>"
   ]
  },
  {
   "cell_type": "code",
   "execution_count": 6,
   "metadata": {},
   "outputs": [
    {
     "data": {
      "text/plain": [
       "'Vestidos y monos PremamáTops premamáPantalones y FaldasBañadoresVestidos de FiestaPijamas y CamisonesPromo hasta -60%'"
      ]
     },
     "execution_count": 6,
     "metadata": {},
     "output_type": "execute_result"
    }
   ],
   "source": [
    "lista_cats[0].getText()"
   ]
  },
  {
   "cell_type": "code",
   "execution_count": null,
   "metadata": {},
   "outputs": [],
   "source": [
    "for cat in lista_cats:\n",
    "    driver = webdriver.Chrome()\n",
    "    url_mercados = f\"https://www.maminess.com/categoria/ropa-premama/{cat}\"\n",
    "    driver.get(url_mercados)\n",
    "    sleep(3)\n",
    "    #aceptar cookie\n",
    "    driver.find_element(\"css selector\", \"#rcc-confirm-button\").click()\n",
    "\n",
    "    for pag in range(1,3):\n",
    "        url_super = f\"https://www.maminess.com/categoria/ropa-premama/pantalones-premama/page/{pag}/\"\n",
    "        res_facua = requests.get(url_super)\n",
    "        sopa_mercados = BeautifulSoup(res_facua.content, \"html.parser\")\n",
    "        lista_mercados = sopa_mercados.findAll(\"a\", {\"class\" :\"nav-link\"})"
   ]
  },
  {
   "cell_type": "code",
   "execution_count": null,
   "metadata": {},
   "outputs": [],
   "source": [
    "driver = webdriver.Chrome()\n",
    "#aquí habría un for de pagina\n",
    "url_mercados = f\"https://www.maminess.com/categoria/ropa-premama/\"\n",
    "driver.get(url_mercados)\n",
    "driver.maximize_window()\n",
    "sleep(1)\n",
    "\n",
    "#aceptar cookie\n",
    "driver.find_element(\"css selector\", \"#cmplz-cookiebanner-container > div > div.cmplz-buttons > button.cmplz-btn.cmplz-accept\").click()\n",
    "sleep(2)\n",
    "\n",
    "#pinchar en la categoria vestidos\n",
    "driver.find_element(\"css selector\", \"#nasa_product_categories-6 > ul > li.cat-item.cat-item-15.cat-item-ropa-premama.root-item.current-cat.active.cat-parent.li_accordion > ul > li.cat-item.cat-item-232.cat-item-vestidos-monos-premama > a\").click()\n",
    "sleep(8)\n",
    "\n",
    "\n",
    "# element = WebDriverWait(driver, 10).until(EC.element_to_be_clickable((By.CSS_SELECTOR, \"#nasa_product_categories-6 > ul > li.cat-item.cat-item-15.cat-item-ropa-premama.root-item.current-cat.active.cat-parent.li_accordion > ul > li.cat-item.cat-item-232.cat-item-vestidos-monos-premama > a\")))\n",
    "# element.click()\n",
    "\n",
    "#pinchar en cada prod para sacar info\n",
    "lista_nombres=[]\n",
    "lista_precios=[]\n",
    "lista_nvaloraciones=[]\n",
    "try:\n",
    "    for nfila in range(1,5):#si no hay tantas, que salga del bucle\n",
    "        try:\n",
    "            for ncol in range(1,5):\n",
    "\n",
    "                sleep(2)\n",
    "                driver.find_element(\"css selector\", f\"#main > div.nasa-archive-product-content > div.nasa-products-page-wrap.large-9.columns.right.has-sidebar > div.nasa-archive-product-warp > div > div > div > div:nth-child({nfila}) > div:nth-child({ncol}) > div > div > div > div > div.product-info-wrap > div > div.name > a\").click()\n",
    "                                                      \n",
    "                sleep(2)\n",
    "\n",
    "                #Beauti\n",
    "                sopa_producto = BeautifulSoup(driver.page_source, \"html.parser\")\n",
    "\n",
    "\n",
    "\n",
    "\n",
    "                #Conseguir nombre\n",
    "                lista_nom = sopa_producto.findAll(\"h1\", {\"class\" :\"product_title entry-title\"})\n",
    "                nombre=lista_nom[0].getText().lower().strip()\n",
    "                lista_nombres.append(nombre)\n",
    "\n",
    "                #Conseguir precio\n",
    "                lista_prec = sopa_producto.findAll(\"span\", {\"class\" :\"woocommerce-Price-amount amount\"})\n",
    "                precio=lista_prec[1].getText().replace(\",\",\".\").replace(\"€\", \"\")\n",
    "                lista_precios.append(precio)\n",
    "\n",
    "\n",
    "                #Conseguir valoraciones(Creo que no tiene)h5\n",
    "                lista_val = sopa_producto.findAll(\"div\", {\"class\" :\"nasa-tab-wrap text-center\"})\n",
    "\n",
    "                texto=lista_val[0].getText()\n",
    "                numero= re.search(r'\\((\\d+)\\)', texto)\n",
    "                nvaloraciones= numero.group(1)\n",
    "                lista_nvaloraciones.append(nvaloraciones)\n",
    "                driver.back()\n",
    "        except:\n",
    "            driver.execute_script(\"window.scrollBy(0, 300);\")\n",
    "            continue\n",
    "except:\n",
    "    pass #habrá que cambiarlo a que vuelva al for de pag si se acaban las filas\n",
    "\n",
    "\n",
    "\n",
    "#pinchar en la categoria pantalones/leggins\n",
    "\n",
    "\n",
    "\n",
    "#nasa_product_categories-6 > ul > li.cat-item.cat-item-15.cat-item-ropa-premama.root-item.current-cat.active.cat-parent.li_accordion > ul > li.cat-item.cat-item-234.cat-item-pantalones-premama > a"
   ]
  },
  {
   "cell_type": "markdown",
   "metadata": {},
   "source": [
    "vamos a desarrollar el de pantalones"
   ]
  },
  {
   "cell_type": "code",
   "execution_count": null,
   "metadata": {},
   "outputs": [
    {
     "ename": "KeyboardInterrupt",
     "evalue": "",
     "output_type": "error",
     "traceback": [
      "\u001b[1;31m---------------------------------------------------------------------------\u001b[0m",
      "\u001b[1;31mKeyboardInterrupt\u001b[0m                         Traceback (most recent call last)",
      "Cell \u001b[1;32mIn[70], line 11\u001b[0m\n\u001b[0;32m      9\u001b[0m \u001b[38;5;66;03m# Cargar la página\u001b[39;00m\n\u001b[0;32m     10\u001b[0m url_mercados \u001b[38;5;241m=\u001b[39m \u001b[38;5;124mf\u001b[39m\u001b[38;5;124m\"\u001b[39m\u001b[38;5;124mhttps://www.maminess.com/categoria/ropa-premama/\u001b[39m\u001b[38;5;124m\"\u001b[39m\n\u001b[1;32m---> 11\u001b[0m \u001b[43mdriver\u001b[49m\u001b[38;5;241;43m.\u001b[39;49m\u001b[43mget\u001b[49m\u001b[43m(\u001b[49m\u001b[43murl_mercados\u001b[49m\u001b[43m)\u001b[49m\n\u001b[0;32m     12\u001b[0m driver\u001b[38;5;241m.\u001b[39mmaximize_window()\n\u001b[0;32m     13\u001b[0m sleep(\u001b[38;5;241m1\u001b[39m)\n",
      "File \u001b[1;32m~\\AppData\\Local\\Packages\\PythonSoftwareFoundation.Python.3.11_qbz5n2kfra8p0\\LocalCache\\local-packages\\Python311\\site-packages\\selenium\\webdriver\\remote\\webdriver.py:356\u001b[0m, in \u001b[0;36mWebDriver.get\u001b[1;34m(self, url)\u001b[0m\n\u001b[0;32m    354\u001b[0m \u001b[38;5;28;01mdef\u001b[39;00m \u001b[38;5;21mget\u001b[39m(\u001b[38;5;28mself\u001b[39m, url: \u001b[38;5;28mstr\u001b[39m) \u001b[38;5;241m-\u001b[39m\u001b[38;5;241m>\u001b[39m \u001b[38;5;28;01mNone\u001b[39;00m:\n\u001b[0;32m    355\u001b[0m \u001b[38;5;250m    \u001b[39m\u001b[38;5;124;03m\"\"\"Loads a web page in the current browser session.\"\"\"\u001b[39;00m\n\u001b[1;32m--> 356\u001b[0m     \u001b[38;5;28;43mself\u001b[39;49m\u001b[38;5;241;43m.\u001b[39;49m\u001b[43mexecute\u001b[49m\u001b[43m(\u001b[49m\u001b[43mCommand\u001b[49m\u001b[38;5;241;43m.\u001b[39;49m\u001b[43mGET\u001b[49m\u001b[43m,\u001b[49m\u001b[43m \u001b[49m\u001b[43m{\u001b[49m\u001b[38;5;124;43m\"\u001b[39;49m\u001b[38;5;124;43murl\u001b[39;49m\u001b[38;5;124;43m\"\u001b[39;49m\u001b[43m:\u001b[49m\u001b[43m \u001b[49m\u001b[43murl\u001b[49m\u001b[43m}\u001b[49m\u001b[43m)\u001b[49m\n",
      "File \u001b[1;32m~\\AppData\\Local\\Packages\\PythonSoftwareFoundation.Python.3.11_qbz5n2kfra8p0\\LocalCache\\local-packages\\Python311\\site-packages\\selenium\\webdriver\\remote\\webdriver.py:345\u001b[0m, in \u001b[0;36mWebDriver.execute\u001b[1;34m(self, driver_command, params)\u001b[0m\n\u001b[0;32m    342\u001b[0m     \u001b[38;5;28;01melif\u001b[39;00m \u001b[38;5;124m\"\u001b[39m\u001b[38;5;124msessionId\u001b[39m\u001b[38;5;124m\"\u001b[39m \u001b[38;5;129;01mnot\u001b[39;00m \u001b[38;5;129;01min\u001b[39;00m params:\n\u001b[0;32m    343\u001b[0m         params[\u001b[38;5;124m\"\u001b[39m\u001b[38;5;124msessionId\u001b[39m\u001b[38;5;124m\"\u001b[39m] \u001b[38;5;241m=\u001b[39m \u001b[38;5;28mself\u001b[39m\u001b[38;5;241m.\u001b[39msession_id\n\u001b[1;32m--> 345\u001b[0m response \u001b[38;5;241m=\u001b[39m \u001b[38;5;28;43mself\u001b[39;49m\u001b[38;5;241;43m.\u001b[39;49m\u001b[43mcommand_executor\u001b[49m\u001b[38;5;241;43m.\u001b[39;49m\u001b[43mexecute\u001b[49m\u001b[43m(\u001b[49m\u001b[43mdriver_command\u001b[49m\u001b[43m,\u001b[49m\u001b[43m \u001b[49m\u001b[43mparams\u001b[49m\u001b[43m)\u001b[49m\n\u001b[0;32m    346\u001b[0m \u001b[38;5;28;01mif\u001b[39;00m response:\n\u001b[0;32m    347\u001b[0m     \u001b[38;5;28mself\u001b[39m\u001b[38;5;241m.\u001b[39merror_handler\u001b[38;5;241m.\u001b[39mcheck_response(response)\n",
      "File \u001b[1;32m~\\AppData\\Local\\Packages\\PythonSoftwareFoundation.Python.3.11_qbz5n2kfra8p0\\LocalCache\\local-packages\\Python311\\site-packages\\selenium\\webdriver\\remote\\remote_connection.py:302\u001b[0m, in \u001b[0;36mRemoteConnection.execute\u001b[1;34m(self, command, params)\u001b[0m\n\u001b[0;32m    300\u001b[0m trimmed \u001b[38;5;241m=\u001b[39m \u001b[38;5;28mself\u001b[39m\u001b[38;5;241m.\u001b[39m_trim_large_entries(params)\n\u001b[0;32m    301\u001b[0m LOGGER\u001b[38;5;241m.\u001b[39mdebug(\u001b[38;5;124m\"\u001b[39m\u001b[38;5;132;01m%s\u001b[39;00m\u001b[38;5;124m \u001b[39m\u001b[38;5;132;01m%s\u001b[39;00m\u001b[38;5;124m \u001b[39m\u001b[38;5;132;01m%s\u001b[39;00m\u001b[38;5;124m\"\u001b[39m, command_info[\u001b[38;5;241m0\u001b[39m], url, \u001b[38;5;28mstr\u001b[39m(trimmed))\n\u001b[1;32m--> 302\u001b[0m \u001b[38;5;28;01mreturn\u001b[39;00m \u001b[38;5;28;43mself\u001b[39;49m\u001b[38;5;241;43m.\u001b[39;49m\u001b[43m_request\u001b[49m\u001b[43m(\u001b[49m\u001b[43mcommand_info\u001b[49m\u001b[43m[\u001b[49m\u001b[38;5;241;43m0\u001b[39;49m\u001b[43m]\u001b[49m\u001b[43m,\u001b[49m\u001b[43m \u001b[49m\u001b[43murl\u001b[49m\u001b[43m,\u001b[49m\u001b[43m \u001b[49m\u001b[43mbody\u001b[49m\u001b[38;5;241;43m=\u001b[39;49m\u001b[43mdata\u001b[49m\u001b[43m)\u001b[49m\n",
      "File \u001b[1;32m~\\AppData\\Local\\Packages\\PythonSoftwareFoundation.Python.3.11_qbz5n2kfra8p0\\LocalCache\\local-packages\\Python311\\site-packages\\selenium\\webdriver\\remote\\remote_connection.py:322\u001b[0m, in \u001b[0;36mRemoteConnection._request\u001b[1;34m(self, method, url, body)\u001b[0m\n\u001b[0;32m    319\u001b[0m     body \u001b[38;5;241m=\u001b[39m \u001b[38;5;28;01mNone\u001b[39;00m\n\u001b[0;32m    321\u001b[0m \u001b[38;5;28;01mif\u001b[39;00m \u001b[38;5;28mself\u001b[39m\u001b[38;5;241m.\u001b[39mkeep_alive:\n\u001b[1;32m--> 322\u001b[0m     response \u001b[38;5;241m=\u001b[39m \u001b[38;5;28;43mself\u001b[39;49m\u001b[38;5;241;43m.\u001b[39;49m\u001b[43m_conn\u001b[49m\u001b[38;5;241;43m.\u001b[39;49m\u001b[43mrequest\u001b[49m\u001b[43m(\u001b[49m\u001b[43mmethod\u001b[49m\u001b[43m,\u001b[49m\u001b[43m \u001b[49m\u001b[43murl\u001b[49m\u001b[43m,\u001b[49m\u001b[43m \u001b[49m\u001b[43mbody\u001b[49m\u001b[38;5;241;43m=\u001b[39;49m\u001b[43mbody\u001b[49m\u001b[43m,\u001b[49m\u001b[43m \u001b[49m\u001b[43mheaders\u001b[49m\u001b[38;5;241;43m=\u001b[39;49m\u001b[43mheaders\u001b[49m\u001b[43m)\u001b[49m\n\u001b[0;32m    323\u001b[0m     statuscode \u001b[38;5;241m=\u001b[39m response\u001b[38;5;241m.\u001b[39mstatus\n\u001b[0;32m    324\u001b[0m \u001b[38;5;28;01melse\u001b[39;00m:\n",
      "File \u001b[1;32m~\\AppData\\Local\\Packages\\PythonSoftwareFoundation.Python.3.11_qbz5n2kfra8p0\\LocalCache\\local-packages\\Python311\\site-packages\\urllib3\\_request_methods.py:143\u001b[0m, in \u001b[0;36mRequestMethods.request\u001b[1;34m(self, method, url, body, fields, headers, json, **urlopen_kw)\u001b[0m\n\u001b[0;32m    135\u001b[0m     \u001b[38;5;28;01mreturn\u001b[39;00m \u001b[38;5;28mself\u001b[39m\u001b[38;5;241m.\u001b[39mrequest_encode_url(\n\u001b[0;32m    136\u001b[0m         method,\n\u001b[0;32m    137\u001b[0m         url,\n\u001b[1;32m   (...)\u001b[0m\n\u001b[0;32m    140\u001b[0m         \u001b[38;5;241m*\u001b[39m\u001b[38;5;241m*\u001b[39murlopen_kw,\n\u001b[0;32m    141\u001b[0m     )\n\u001b[0;32m    142\u001b[0m \u001b[38;5;28;01melse\u001b[39;00m:\n\u001b[1;32m--> 143\u001b[0m     \u001b[38;5;28;01mreturn\u001b[39;00m \u001b[38;5;28;43mself\u001b[39;49m\u001b[38;5;241;43m.\u001b[39;49m\u001b[43mrequest_encode_body\u001b[49m\u001b[43m(\u001b[49m\n\u001b[0;32m    144\u001b[0m \u001b[43m        \u001b[49m\u001b[43mmethod\u001b[49m\u001b[43m,\u001b[49m\u001b[43m \u001b[49m\u001b[43murl\u001b[49m\u001b[43m,\u001b[49m\u001b[43m \u001b[49m\u001b[43mfields\u001b[49m\u001b[38;5;241;43m=\u001b[39;49m\u001b[43mfields\u001b[49m\u001b[43m,\u001b[49m\u001b[43m \u001b[49m\u001b[43mheaders\u001b[49m\u001b[38;5;241;43m=\u001b[39;49m\u001b[43mheaders\u001b[49m\u001b[43m,\u001b[49m\u001b[43m \u001b[49m\u001b[38;5;241;43m*\u001b[39;49m\u001b[38;5;241;43m*\u001b[39;49m\u001b[43murlopen_kw\u001b[49m\n\u001b[0;32m    145\u001b[0m \u001b[43m    \u001b[49m\u001b[43m)\u001b[49m\n",
      "File \u001b[1;32m~\\AppData\\Local\\Packages\\PythonSoftwareFoundation.Python.3.11_qbz5n2kfra8p0\\LocalCache\\local-packages\\Python311\\site-packages\\urllib3\\_request_methods.py:278\u001b[0m, in \u001b[0;36mRequestMethods.request_encode_body\u001b[1;34m(self, method, url, fields, headers, encode_multipart, multipart_boundary, **urlopen_kw)\u001b[0m\n\u001b[0;32m    274\u001b[0m     extra_kw[\u001b[38;5;124m\"\u001b[39m\u001b[38;5;124mheaders\u001b[39m\u001b[38;5;124m\"\u001b[39m]\u001b[38;5;241m.\u001b[39msetdefault(\u001b[38;5;124m\"\u001b[39m\u001b[38;5;124mContent-Type\u001b[39m\u001b[38;5;124m\"\u001b[39m, content_type)\n\u001b[0;32m    276\u001b[0m extra_kw\u001b[38;5;241m.\u001b[39mupdate(urlopen_kw)\n\u001b[1;32m--> 278\u001b[0m \u001b[38;5;28;01mreturn\u001b[39;00m \u001b[38;5;28;43mself\u001b[39;49m\u001b[38;5;241;43m.\u001b[39;49m\u001b[43murlopen\u001b[49m\u001b[43m(\u001b[49m\u001b[43mmethod\u001b[49m\u001b[43m,\u001b[49m\u001b[43m \u001b[49m\u001b[43murl\u001b[49m\u001b[43m,\u001b[49m\u001b[43m \u001b[49m\u001b[38;5;241;43m*\u001b[39;49m\u001b[38;5;241;43m*\u001b[39;49m\u001b[43mextra_kw\u001b[49m\u001b[43m)\u001b[49m\n",
      "File \u001b[1;32m~\\AppData\\Local\\Packages\\PythonSoftwareFoundation.Python.3.11_qbz5n2kfra8p0\\LocalCache\\local-packages\\Python311\\site-packages\\urllib3\\poolmanager.py:443\u001b[0m, in \u001b[0;36mPoolManager.urlopen\u001b[1;34m(self, method, url, redirect, **kw)\u001b[0m\n\u001b[0;32m    441\u001b[0m     response \u001b[38;5;241m=\u001b[39m conn\u001b[38;5;241m.\u001b[39murlopen(method, url, \u001b[38;5;241m*\u001b[39m\u001b[38;5;241m*\u001b[39mkw)\n\u001b[0;32m    442\u001b[0m \u001b[38;5;28;01melse\u001b[39;00m:\n\u001b[1;32m--> 443\u001b[0m     response \u001b[38;5;241m=\u001b[39m \u001b[43mconn\u001b[49m\u001b[38;5;241;43m.\u001b[39;49m\u001b[43murlopen\u001b[49m\u001b[43m(\u001b[49m\u001b[43mmethod\u001b[49m\u001b[43m,\u001b[49m\u001b[43m \u001b[49m\u001b[43mu\u001b[49m\u001b[38;5;241;43m.\u001b[39;49m\u001b[43mrequest_uri\u001b[49m\u001b[43m,\u001b[49m\u001b[43m \u001b[49m\u001b[38;5;241;43m*\u001b[39;49m\u001b[38;5;241;43m*\u001b[39;49m\u001b[43mkw\u001b[49m\u001b[43m)\u001b[49m\n\u001b[0;32m    445\u001b[0m redirect_location \u001b[38;5;241m=\u001b[39m redirect \u001b[38;5;129;01mand\u001b[39;00m response\u001b[38;5;241m.\u001b[39mget_redirect_location()\n\u001b[0;32m    446\u001b[0m \u001b[38;5;28;01mif\u001b[39;00m \u001b[38;5;129;01mnot\u001b[39;00m redirect_location:\n",
      "File \u001b[1;32m~\\AppData\\Local\\Packages\\PythonSoftwareFoundation.Python.3.11_qbz5n2kfra8p0\\LocalCache\\local-packages\\Python311\\site-packages\\urllib3\\connectionpool.py:789\u001b[0m, in \u001b[0;36mHTTPConnectionPool.urlopen\u001b[1;34m(self, method, url, body, headers, retries, redirect, assert_same_host, timeout, pool_timeout, release_conn, chunked, body_pos, preload_content, decode_content, **response_kw)\u001b[0m\n\u001b[0;32m    786\u001b[0m response_conn \u001b[38;5;241m=\u001b[39m conn \u001b[38;5;28;01mif\u001b[39;00m \u001b[38;5;129;01mnot\u001b[39;00m release_conn \u001b[38;5;28;01melse\u001b[39;00m \u001b[38;5;28;01mNone\u001b[39;00m\n\u001b[0;32m    788\u001b[0m \u001b[38;5;66;03m# Make the request on the HTTPConnection object\u001b[39;00m\n\u001b[1;32m--> 789\u001b[0m response \u001b[38;5;241m=\u001b[39m \u001b[38;5;28;43mself\u001b[39;49m\u001b[38;5;241;43m.\u001b[39;49m\u001b[43m_make_request\u001b[49m\u001b[43m(\u001b[49m\n\u001b[0;32m    790\u001b[0m \u001b[43m    \u001b[49m\u001b[43mconn\u001b[49m\u001b[43m,\u001b[49m\n\u001b[0;32m    791\u001b[0m \u001b[43m    \u001b[49m\u001b[43mmethod\u001b[49m\u001b[43m,\u001b[49m\n\u001b[0;32m    792\u001b[0m \u001b[43m    \u001b[49m\u001b[43murl\u001b[49m\u001b[43m,\u001b[49m\n\u001b[0;32m    793\u001b[0m \u001b[43m    \u001b[49m\u001b[43mtimeout\u001b[49m\u001b[38;5;241;43m=\u001b[39;49m\u001b[43mtimeout_obj\u001b[49m\u001b[43m,\u001b[49m\n\u001b[0;32m    794\u001b[0m \u001b[43m    \u001b[49m\u001b[43mbody\u001b[49m\u001b[38;5;241;43m=\u001b[39;49m\u001b[43mbody\u001b[49m\u001b[43m,\u001b[49m\n\u001b[0;32m    795\u001b[0m \u001b[43m    \u001b[49m\u001b[43mheaders\u001b[49m\u001b[38;5;241;43m=\u001b[39;49m\u001b[43mheaders\u001b[49m\u001b[43m,\u001b[49m\n\u001b[0;32m    796\u001b[0m \u001b[43m    \u001b[49m\u001b[43mchunked\u001b[49m\u001b[38;5;241;43m=\u001b[39;49m\u001b[43mchunked\u001b[49m\u001b[43m,\u001b[49m\n\u001b[0;32m    797\u001b[0m \u001b[43m    \u001b[49m\u001b[43mretries\u001b[49m\u001b[38;5;241;43m=\u001b[39;49m\u001b[43mretries\u001b[49m\u001b[43m,\u001b[49m\n\u001b[0;32m    798\u001b[0m \u001b[43m    \u001b[49m\u001b[43mresponse_conn\u001b[49m\u001b[38;5;241;43m=\u001b[39;49m\u001b[43mresponse_conn\u001b[49m\u001b[43m,\u001b[49m\n\u001b[0;32m    799\u001b[0m \u001b[43m    \u001b[49m\u001b[43mpreload_content\u001b[49m\u001b[38;5;241;43m=\u001b[39;49m\u001b[43mpreload_content\u001b[49m\u001b[43m,\u001b[49m\n\u001b[0;32m    800\u001b[0m \u001b[43m    \u001b[49m\u001b[43mdecode_content\u001b[49m\u001b[38;5;241;43m=\u001b[39;49m\u001b[43mdecode_content\u001b[49m\u001b[43m,\u001b[49m\n\u001b[0;32m    801\u001b[0m \u001b[43m    \u001b[49m\u001b[38;5;241;43m*\u001b[39;49m\u001b[38;5;241;43m*\u001b[39;49m\u001b[43mresponse_kw\u001b[49m\u001b[43m,\u001b[49m\n\u001b[0;32m    802\u001b[0m \u001b[43m\u001b[49m\u001b[43m)\u001b[49m\n\u001b[0;32m    804\u001b[0m \u001b[38;5;66;03m# Everything went great!\u001b[39;00m\n\u001b[0;32m    805\u001b[0m clean_exit \u001b[38;5;241m=\u001b[39m \u001b[38;5;28;01mTrue\u001b[39;00m\n",
      "File \u001b[1;32m~\\AppData\\Local\\Packages\\PythonSoftwareFoundation.Python.3.11_qbz5n2kfra8p0\\LocalCache\\local-packages\\Python311\\site-packages\\urllib3\\connectionpool.py:536\u001b[0m, in \u001b[0;36mHTTPConnectionPool._make_request\u001b[1;34m(self, conn, method, url, body, headers, retries, timeout, chunked, response_conn, preload_content, decode_content, enforce_content_length)\u001b[0m\n\u001b[0;32m    534\u001b[0m \u001b[38;5;66;03m# Receive the response from the server\u001b[39;00m\n\u001b[0;32m    535\u001b[0m \u001b[38;5;28;01mtry\u001b[39;00m:\n\u001b[1;32m--> 536\u001b[0m     response \u001b[38;5;241m=\u001b[39m \u001b[43mconn\u001b[49m\u001b[38;5;241;43m.\u001b[39;49m\u001b[43mgetresponse\u001b[49m\u001b[43m(\u001b[49m\u001b[43m)\u001b[49m\n\u001b[0;32m    537\u001b[0m \u001b[38;5;28;01mexcept\u001b[39;00m (BaseSSLError, \u001b[38;5;167;01mOSError\u001b[39;00m) \u001b[38;5;28;01mas\u001b[39;00m e:\n\u001b[0;32m    538\u001b[0m     \u001b[38;5;28mself\u001b[39m\u001b[38;5;241m.\u001b[39m_raise_timeout(err\u001b[38;5;241m=\u001b[39me, url\u001b[38;5;241m=\u001b[39murl, timeout_value\u001b[38;5;241m=\u001b[39mread_timeout)\n",
      "File \u001b[1;32m~\\AppData\\Local\\Packages\\PythonSoftwareFoundation.Python.3.11_qbz5n2kfra8p0\\LocalCache\\local-packages\\Python311\\site-packages\\urllib3\\connection.py:507\u001b[0m, in \u001b[0;36mHTTPConnection.getresponse\u001b[1;34m(self)\u001b[0m\n\u001b[0;32m    504\u001b[0m \u001b[38;5;28;01mfrom\u001b[39;00m \u001b[38;5;21;01m.\u001b[39;00m\u001b[38;5;21;01mresponse\u001b[39;00m \u001b[38;5;28;01mimport\u001b[39;00m HTTPResponse\n\u001b[0;32m    506\u001b[0m \u001b[38;5;66;03m# Get the response from http.client.HTTPConnection\u001b[39;00m\n\u001b[1;32m--> 507\u001b[0m httplib_response \u001b[38;5;241m=\u001b[39m \u001b[38;5;28;43msuper\u001b[39;49m\u001b[43m(\u001b[49m\u001b[43m)\u001b[49m\u001b[38;5;241;43m.\u001b[39;49m\u001b[43mgetresponse\u001b[49m\u001b[43m(\u001b[49m\u001b[43m)\u001b[49m\n\u001b[0;32m    509\u001b[0m \u001b[38;5;28;01mtry\u001b[39;00m:\n\u001b[0;32m    510\u001b[0m     assert_header_parsing(httplib_response\u001b[38;5;241m.\u001b[39mmsg)\n",
      "File \u001b[1;32mC:\\Program Files\\WindowsApps\\PythonSoftwareFoundation.Python.3.11_3.11.2544.0_x64__qbz5n2kfra8p0\\Lib\\http\\client.py:1395\u001b[0m, in \u001b[0;36mHTTPConnection.getresponse\u001b[1;34m(self)\u001b[0m\n\u001b[0;32m   1393\u001b[0m \u001b[38;5;28;01mtry\u001b[39;00m:\n\u001b[0;32m   1394\u001b[0m     \u001b[38;5;28;01mtry\u001b[39;00m:\n\u001b[1;32m-> 1395\u001b[0m         \u001b[43mresponse\u001b[49m\u001b[38;5;241;43m.\u001b[39;49m\u001b[43mbegin\u001b[49m\u001b[43m(\u001b[49m\u001b[43m)\u001b[49m\n\u001b[0;32m   1396\u001b[0m     \u001b[38;5;28;01mexcept\u001b[39;00m \u001b[38;5;167;01mConnectionError\u001b[39;00m:\n\u001b[0;32m   1397\u001b[0m         \u001b[38;5;28mself\u001b[39m\u001b[38;5;241m.\u001b[39mclose()\n",
      "File \u001b[1;32mC:\\Program Files\\WindowsApps\\PythonSoftwareFoundation.Python.3.11_3.11.2544.0_x64__qbz5n2kfra8p0\\Lib\\http\\client.py:325\u001b[0m, in \u001b[0;36mHTTPResponse.begin\u001b[1;34m(self)\u001b[0m\n\u001b[0;32m    323\u001b[0m \u001b[38;5;66;03m# read until we get a non-100 response\u001b[39;00m\n\u001b[0;32m    324\u001b[0m \u001b[38;5;28;01mwhile\u001b[39;00m \u001b[38;5;28;01mTrue\u001b[39;00m:\n\u001b[1;32m--> 325\u001b[0m     version, status, reason \u001b[38;5;241m=\u001b[39m \u001b[38;5;28;43mself\u001b[39;49m\u001b[38;5;241;43m.\u001b[39;49m\u001b[43m_read_status\u001b[49m\u001b[43m(\u001b[49m\u001b[43m)\u001b[49m\n\u001b[0;32m    326\u001b[0m     \u001b[38;5;28;01mif\u001b[39;00m status \u001b[38;5;241m!=\u001b[39m CONTINUE:\n\u001b[0;32m    327\u001b[0m         \u001b[38;5;28;01mbreak\u001b[39;00m\n",
      "File \u001b[1;32mC:\\Program Files\\WindowsApps\\PythonSoftwareFoundation.Python.3.11_3.11.2544.0_x64__qbz5n2kfra8p0\\Lib\\http\\client.py:286\u001b[0m, in \u001b[0;36mHTTPResponse._read_status\u001b[1;34m(self)\u001b[0m\n\u001b[0;32m    285\u001b[0m \u001b[38;5;28;01mdef\u001b[39;00m \u001b[38;5;21m_read_status\u001b[39m(\u001b[38;5;28mself\u001b[39m):\n\u001b[1;32m--> 286\u001b[0m     line \u001b[38;5;241m=\u001b[39m \u001b[38;5;28mstr\u001b[39m(\u001b[38;5;28mself\u001b[39m\u001b[38;5;241m.\u001b[39mfp\u001b[38;5;241m.\u001b[39mreadline(_MAXLINE \u001b[38;5;241m+\u001b[39m \u001b[38;5;241m1\u001b[39m), \u001b[38;5;124m\"\u001b[39m\u001b[38;5;124miso-8859-1\u001b[39m\u001b[38;5;124m\"\u001b[39m)\n\u001b[0;32m    287\u001b[0m     \u001b[38;5;28;01mif\u001b[39;00m \u001b[38;5;28mlen\u001b[39m(line) \u001b[38;5;241m>\u001b[39m _MAXLINE:\n\u001b[0;32m    288\u001b[0m         \u001b[38;5;28;01mraise\u001b[39;00m LineTooLong(\u001b[38;5;124m\"\u001b[39m\u001b[38;5;124mstatus line\u001b[39m\u001b[38;5;124m\"\u001b[39m)\n",
      "File \u001b[1;32mC:\\Program Files\\WindowsApps\\PythonSoftwareFoundation.Python.3.11_3.11.2544.0_x64__qbz5n2kfra8p0\\Lib\\socket.py:706\u001b[0m, in \u001b[0;36mSocketIO.readinto\u001b[1;34m(self, b)\u001b[0m\n\u001b[0;32m    704\u001b[0m \u001b[38;5;28;01mwhile\u001b[39;00m \u001b[38;5;28;01mTrue\u001b[39;00m:\n\u001b[0;32m    705\u001b[0m     \u001b[38;5;28;01mtry\u001b[39;00m:\n\u001b[1;32m--> 706\u001b[0m         \u001b[38;5;28;01mreturn\u001b[39;00m \u001b[38;5;28;43mself\u001b[39;49m\u001b[38;5;241;43m.\u001b[39;49m\u001b[43m_sock\u001b[49m\u001b[38;5;241;43m.\u001b[39;49m\u001b[43mrecv_into\u001b[49m\u001b[43m(\u001b[49m\u001b[43mb\u001b[49m\u001b[43m)\u001b[49m\n\u001b[0;32m    707\u001b[0m     \u001b[38;5;28;01mexcept\u001b[39;00m timeout:\n\u001b[0;32m    708\u001b[0m         \u001b[38;5;28mself\u001b[39m\u001b[38;5;241m.\u001b[39m_timeout_occurred \u001b[38;5;241m=\u001b[39m \u001b[38;5;28;01mTrue\u001b[39;00m\n",
      "\u001b[1;31mKeyboardInterrupt\u001b[0m: "
     ]
    }
   ],
   "source": [
    "from selenium.webdriver.common.by import By\n",
    "from selenium.webdriver.support.ui import WebDriverWait\n",
    "from selenium.webdriver.support import expected_conditions as EC\n",
    "from bs4 import BeautifulSoup\n",
    "from time import sleep\n",
    "from selenium import webdriver\n",
    "\n",
    "driver = webdriver.Chrome()\n",
    "# Cargar la página\n",
    "url_mercados = f\"https://www.maminess.com/categoria/ropa-premama/\"\n",
    "driver.get(url_mercados)\n",
    "driver.maximize_window()\n",
    "sleep(1)\n",
    "\n",
    "# Aceptar cookies\n",
    "driver.find_element(\"css selector\", \"#cmplz-cookiebanner-container > div > div.cmplz-buttons > button.cmplz-btn.cmplz-accept\").click()\n",
    "sleep(2)\n",
    "\n",
    "# Pinchar en la categoría de vestidos\n",
    "driver.find_element(\"css selector\", \"#nasa_product_categories-6 > ul > li.cat-item.cat-item-15.cat-item-ropa-premama.root-item.current-cat.active.cat-parent.li_accordion > ul > li.cat-item.cat-item-232.cat-item-vestidos-monos-premama > a\").click()\n",
    "sleep(5)\n",
    "\n",
    "# Listas para almacenar la información\n",
    "lista_nombres = []\n",
    "lista_precios = []\n",
    "lista_nvaloraciones = []\n",
    "\n",
    "# Bucle para recorrer filas y columnas de productos\n",
    "\n",
    "for nfila in range(1, 5):  # Recorrer filas\n",
    "    try:\n",
    "        for ncol in range(1, 6):  # Recorrer columnas\n",
    "            try:\n",
    "                # Espera explícita para que el producto esté listo para hacer clic\n",
    "                WebDriverWait(driver, 10).until(\n",
    "                    EC.element_to_be_clickable((By.CSS_SELECTOR, f\"#main > div.nasa-archive-product-content > div.nasa-products-page-wrap.large-9.columns.right.has-sidebar > div.nasa-archive-product-warp > div > div > div > div:nth-child({nfila}) > div:nth-child({ncol}) > div > div > div > div > div.product-info-wrap > div > div.name > a\"))\n",
    "                ).click()\n",
    "                \n",
    "                # Espera tras hacer clic\n",
    "                sleep(2)\n",
    "\n",
    "                # Extraer información del producto\n",
    "\n",
    "                sopa_producto = BeautifulSoup(driver.page_source, \"html.parser\")\n",
    "                \n",
    "                # Conseguir nombre\n",
    "                lista_nom = sopa_producto.findAll(\"h1\", {\"class\": \"product_title entry-title\"})\n",
    "                nombre = lista_nom[0].getText().lower().strip() if lista_nom else \"Nombre no encontrado\"\n",
    "                lista_nombres.append(nombre)\n",
    "\n",
    "                # Conseguir precio\n",
    "                lista_prec = sopa_producto.findAll(\"span\", {\"class\": \"woocommerce-Price-amount amount\"})\n",
    "                precio = lista_prec[1].getText().replace(\",\", \".\").replace(\"€\", \"\") if len(lista_prec) > 1 else \"Precio no encontrado\"\n",
    "                lista_precios.append(precio)\n",
    "                \n",
    "                # Conseguir valoraciones\n",
    "                lista_val = sopa_producto.findAll(\"div\", {\"class\": \"nasa-tab-wrap text-center\"})\n",
    "                if lista_val:\n",
    "                    texto = lista_val[0].getText()\n",
    "                    numero = re.search(r'\\((\\d+)\\)', texto)\n",
    "                    nvaloraciones = numero.group(1) if numero else \"0\"\n",
    "                else:\n",
    "                    nvaloraciones = \"No hay valoraciones\"\n",
    "                lista_nvaloraciones.append(nvaloraciones)\n",
    "\n",
    "                # Volver a la página de productos\n",
    "                driver.back()\n",
    "                \n",
    "                # Espera explícita después de regresar a la página anterior\n",
    "                WebDriverWait(driver, 10).until(\n",
    "                    EC.presence_of_element_located((By.CSS_SELECTOR, \"#main .nasa-products-page-wrap\"))\n",
    "                )\n",
    "\n",
    "            except Exception as e:\n",
    "                print(f\"Error al procesar el producto en fila {nfila} columna {ncol}: {e}\")\n",
    "                driver.execute_script(\"window.scrollBy(0, 300);\")\n",
    "                #aqui cambio pag\n",
    "                if len(lista_nombres) == 13:\n",
    "                    sleep(2)\n",
    "                    driver.find_element(\"css selector\", \"#main > div.nasa-archive-product-content > div.nasa-products-page-wrap.large-9.columns.right.has-sidebar > div.row.nasa-paginations-warp.filters-container-down > div > div > div > ul > li:nth-child(4) > a > span\").click()\n",
    "                    sleep(5)\n",
    "                    \n",
    "                    #l\n",
    "                else:\n",
    "                    continue\n",
    "            \n",
    "            \n",
    "    except Exception as e:\n",
    "        print(f\"Error general: {e}\")\n",
    "\n",
    "\n",
    "\n",
    "\n",
    "# Cerrar el navegador\n",
    "\n",
    "\n",
    "# Resultado\n",
    "print(lista_nombres)\n",
    "print(lista_precios)\n",
    "print(lista_nvaloraciones)\n"
   ]
  },
  {
   "cell_type": "code",
   "execution_count": 43,
   "metadata": {},
   "outputs": [
    {
     "data": {
      "text/plain": [
       "['34.90', '44.90', '54.90', '39.90']"
      ]
     },
     "execution_count": 43,
     "metadata": {},
     "output_type": "execute_result"
    }
   ],
   "source": [
    "lista_precios"
   ]
  },
  {
   "cell_type": "code",
   "execution_count": 36,
   "metadata": {},
   "outputs": [
    {
     "data": {
      "text/plain": [
       "['jersey premamá punto chocolate leslie']"
      ]
     },
     "execution_count": 36,
     "metadata": {},
     "output_type": "execute_result"
    }
   ],
   "source": [
    "\n",
    "lista_nombres"
   ]
  },
  {
   "cell_type": "markdown",
   "metadata": {},
   "source": [
    "Este esta bien"
   ]
  },
  {
   "cell_type": "code",
   "execution_count": null,
   "metadata": {},
   "outputs": [],
   "source": [
    "from selenium.webdriver.common.by import By\n",
    "from selenium.webdriver.support.ui import WebDriverWait\n",
    "from selenium.webdriver.support import expected_conditions as EC\n",
    "from bs4 import BeautifulSoup\n",
    "from time import sleep\n",
    "from selenium import webdriver\n",
    "\n",
    "driver = webdriver.Chrome()\n",
    "# Cargar la página\n",
    "url_mercados = f\"https://www.maminess.com/categoria/ropa-premama/\"\n",
    "driver.get(url_mercados)\n",
    "driver.maximize_window()\n",
    "sleep(1)\n",
    "\n",
    "# Aceptar cookies\n",
    "driver.find_element(\"css selector\", \"#cmplz-cookiebanner-container > div > div.cmplz-buttons > button.cmplz-btn.cmplz-accept\").click()\n",
    "sleep(2)\n",
    "\n",
    "# Pinchar en la categoría de vestidos\n",
    "driver.find_element(\"css selector\", \"#nasa_product_categories-6 > ul > li.cat-item.cat-item-15.cat-item-ropa-premama.root-item.current-cat.active.cat-parent.li_accordion > ul > li.cat-item.cat-item-232.cat-item-vestidos-monos-premama > a\").click()\n",
    "sleep(5)\n",
    "\n",
    "# Listas para almacenar la información\n",
    "lista_nombres = []\n",
    "lista_precios = []\n",
    "lista_nvaloraciones = []\n",
    "\n",
    "# Bucle para recorrer filas y columnas de productos\n",
    "try:\n",
    "    for nfila in range(1, 5):  # Recorrer filas\n",
    "        for ncol in range(1, 5):  # Recorrer columnas\n",
    "            try:\n",
    "                # Espera explícita para que el producto esté listo para hacer clic\n",
    "                WebDriverWait(driver, 10).until(\n",
    "                    EC.element_to_be_clickable((By.CSS_SELECTOR, f\"#main > div.nasa-archive-product-content > div.nasa-products-page-wrap.large-9.columns.right.has-sidebar > div.nasa-archive-product-warp > div > div > div > div:nth-child({nfila}) > div:nth-child({ncol}) > div > div > div > div > div.product-info-wrap > div > div.name > a\"))\n",
    "                ).click()\n",
    "                \n",
    "                # Espera tras hacer clic\n",
    "                sleep(2)\n",
    "\n",
    "                # Extraer información del producto\n",
    "                sopa_producto = BeautifulSoup(driver.page_source, \"html.parser\")\n",
    "                \n",
    "                # Conseguir nombre\n",
    "                lista_nom = sopa_producto.findAll(\"h1\", {\"class\": \"product_title entry-title\"})\n",
    "                nombre = lista_nom[0].getText().lower().strip() if lista_nom else \"Nombre no encontrado\"\n",
    "                lista_nombres.append(nombre)\n",
    "\n",
    "                # Conseguir precio\n",
    "                lista_prec = sopa_producto.findAll(\"span\", {\"class\": \"woocommerce-Price-amount amount\"})\n",
    "                precio = lista_prec[1].getText().replace(\",\", \".\").replace(\"€\", \"\") if len(lista_prec) > 1 else \"Precio no encontrado\"\n",
    "                lista_precios.append(precio)\n",
    "                \n",
    "                # Conseguir valoraciones\n",
    "                lista_val = sopa_producto.findAll(\"div\", {\"class\": \"nasa-tab-wrap text-center\"})\n",
    "                if lista_val:\n",
    "                    texto = lista_val[0].getText()\n",
    "                    numero = re.search(r'\\((\\d+)\\)', texto)\n",
    "                    nvaloraciones = numero.group(1) if numero else \"0\"\n",
    "                else:\n",
    "                    nvaloraciones = \"No hay valoraciones\"\n",
    "                lista_nvaloraciones.append(nvaloraciones)\n",
    "\n",
    "                # Volver a la página de productos\n",
    "                driver.back()\n",
    "                \n",
    "                # Espera explícita después de regresar a la página anterior\n",
    "                WebDriverWait(driver, 10).until(\n",
    "                    EC.presence_of_element_located((By.CSS_SELECTOR, \"#main .nasa-products-page-wrap\"))\n",
    "                )\n",
    "\n",
    "            except Exception as e:\n",
    "                print(f\"Error al procesar el producto en fila {nfila} columna {ncol}: {e}\")\n",
    "                driver.execute_script(\"window.scrollBy(0, 300);\")\n",
    "                continue\n",
    "\n",
    "except Exception as e:\n",
    "    print(f\"Error general: {e}\")\n",
    "\n",
    "# Cerrar el navegador\n",
    "driver.quit()\n",
    "\n",
    "# Resultado\n",
    "print(lista_nombres)\n",
    "print(lista_precios)\n",
    "print(lista_nvaloraciones)\n"
   ]
  },
  {
   "cell_type": "markdown",
   "metadata": {},
   "source": [
    "este pruebo coger ambas cats"
   ]
  },
  {
   "cell_type": "code",
   "execution_count": 62,
   "metadata": {},
   "outputs": [
    {
     "name": "stdout",
     "output_type": "stream",
     "text": [
      "Error al procesar el producto en fila 2 columna 1: Message: \n",
      "\n",
      "Error al procesar el producto en fila 3 columna 1: Message: \n",
      "\n",
      "Error al procesar el producto en fila 4 columna 1: Message: \n",
      "\n"
     ]
    },
    {
     "ename": "NoSuchElementException",
     "evalue": "Message: no such element: Unable to locate element: {\"method\":\"css selector\",\"selector\":\"#nasa_product_categories-6 > ul > li.cat-item.cat-item-15.cat-item-ropa-premama.root-item.current-cat.active.cat-parent.li_accordion > ul > li.cat-item.cat-item-234.cat-item-pantalones-premama > a\"}\n  (Session info: chrome=130.0.6723.117); For documentation on this error, please visit: https://www.selenium.dev/documentation/webdriver/troubleshooting/errors#no-such-element-exception\nStacktrace:\n\tGetHandleVerifier [0x00007FF6DD8A38A5+3004357]\n\t(No symbol) [0x00007FF6DD539970]\n\t(No symbol) [0x00007FF6DD3E582A]\n\t(No symbol) [0x00007FF6DD435B8E]\n\t(No symbol) [0x00007FF6DD435E7C]\n\t(No symbol) [0x00007FF6DD47EC27]\n\t(No symbol) [0x00007FF6DD45BC1F]\n\t(No symbol) [0x00007FF6DD47BA4C]\n\t(No symbol) [0x00007FF6DD45B983]\n\t(No symbol) [0x00007FF6DD427628]\n\t(No symbol) [0x00007FF6DD428791]\n\tGetHandleVerifier [0x00007FF6DD8CA00D+3161901]\n\tGetHandleVerifier [0x00007FF6DD91E060+3506048]\n\tGetHandleVerifier [0x00007FF6DD91400D+3465005]\n\tGetHandleVerifier [0x00007FF6DD690EEB+830987]\n\t(No symbol) [0x00007FF6DD54467F]\n\t(No symbol) [0x00007FF6DD5409D4]\n\t(No symbol) [0x00007FF6DD540B6D]\n\t(No symbol) [0x00007FF6DD530149]\n\tBaseThreadInitThunk [0x00007FF989A6257D+29]\n\tRtlUserThreadStart [0x00007FF98BB4AF08+40]\n",
     "output_type": "error",
     "traceback": [
      "\u001b[1;31m---------------------------------------------------------------------------\u001b[0m",
      "\u001b[1;31mNoSuchElementException\u001b[0m                    Traceback (most recent call last)",
      "Cell \u001b[1;32mIn[62], line 81\u001b[0m\n\u001b[0;32m     78\u001b[0m     \u001b[38;5;28mprint\u001b[39m(\u001b[38;5;124mf\u001b[39m\u001b[38;5;124m\"\u001b[39m\u001b[38;5;124mError general: \u001b[39m\u001b[38;5;132;01m{\u001b[39;00me\u001b[38;5;132;01m}\u001b[39;00m\u001b[38;5;124m\"\u001b[39m)\n\u001b[0;32m     80\u001b[0m \u001b[38;5;66;03m#pinchar en la categoria pantalones/leggins\u001b[39;00m\n\u001b[1;32m---> 81\u001b[0m \u001b[43mdriver\u001b[49m\u001b[38;5;241;43m.\u001b[39;49m\u001b[43mfind_element\u001b[49m\u001b[43m(\u001b[49m\u001b[38;5;124;43m\"\u001b[39;49m\u001b[38;5;124;43mcss selector\u001b[39;49m\u001b[38;5;124;43m\"\u001b[39;49m\u001b[43m,\u001b[49m\u001b[43m \u001b[49m\u001b[38;5;124;43m\"\u001b[39;49m\u001b[38;5;124;43m#nasa_product_categories-6 > ul > li.cat-item.cat-item-15.cat-item-ropa-premama.root-item.current-cat.active.cat-parent.li_accordion > ul > li.cat-item.cat-item-234.cat-item-pantalones-premama > a\u001b[39;49m\u001b[38;5;124;43m\"\u001b[39;49m\u001b[43m)\u001b[49m\u001b[38;5;241m.\u001b[39mclick()\n\u001b[0;32m     82\u001b[0m sleep(\u001b[38;5;241m8\u001b[39m)\n\u001b[0;32m     84\u001b[0m lista_nombresp \u001b[38;5;241m=\u001b[39m []\n",
      "File \u001b[1;32m~\\AppData\\Local\\Packages\\PythonSoftwareFoundation.Python.3.11_qbz5n2kfra8p0\\LocalCache\\local-packages\\Python311\\site-packages\\selenium\\webdriver\\remote\\webdriver.py:741\u001b[0m, in \u001b[0;36mWebDriver.find_element\u001b[1;34m(self, by, value)\u001b[0m\n\u001b[0;32m    738\u001b[0m     by \u001b[38;5;241m=\u001b[39m By\u001b[38;5;241m.\u001b[39mCSS_SELECTOR\n\u001b[0;32m    739\u001b[0m     value \u001b[38;5;241m=\u001b[39m \u001b[38;5;124mf\u001b[39m\u001b[38;5;124m'\u001b[39m\u001b[38;5;124m[name=\u001b[39m\u001b[38;5;124m\"\u001b[39m\u001b[38;5;132;01m{\u001b[39;00mvalue\u001b[38;5;132;01m}\u001b[39;00m\u001b[38;5;124m\"\u001b[39m\u001b[38;5;124m]\u001b[39m\u001b[38;5;124m'\u001b[39m\n\u001b[1;32m--> 741\u001b[0m \u001b[38;5;28;01mreturn\u001b[39;00m \u001b[38;5;28;43mself\u001b[39;49m\u001b[38;5;241;43m.\u001b[39;49m\u001b[43mexecute\u001b[49m\u001b[43m(\u001b[49m\u001b[43mCommand\u001b[49m\u001b[38;5;241;43m.\u001b[39;49m\u001b[43mFIND_ELEMENT\u001b[49m\u001b[43m,\u001b[49m\u001b[43m \u001b[49m\u001b[43m{\u001b[49m\u001b[38;5;124;43m\"\u001b[39;49m\u001b[38;5;124;43musing\u001b[39;49m\u001b[38;5;124;43m\"\u001b[39;49m\u001b[43m:\u001b[49m\u001b[43m \u001b[49m\u001b[43mby\u001b[49m\u001b[43m,\u001b[49m\u001b[43m \u001b[49m\u001b[38;5;124;43m\"\u001b[39;49m\u001b[38;5;124;43mvalue\u001b[39;49m\u001b[38;5;124;43m\"\u001b[39;49m\u001b[43m:\u001b[49m\u001b[43m \u001b[49m\u001b[43mvalue\u001b[49m\u001b[43m}\u001b[49m\u001b[43m)\u001b[49m[\u001b[38;5;124m\"\u001b[39m\u001b[38;5;124mvalue\u001b[39m\u001b[38;5;124m\"\u001b[39m]\n",
      "File \u001b[1;32m~\\AppData\\Local\\Packages\\PythonSoftwareFoundation.Python.3.11_qbz5n2kfra8p0\\LocalCache\\local-packages\\Python311\\site-packages\\selenium\\webdriver\\remote\\webdriver.py:347\u001b[0m, in \u001b[0;36mWebDriver.execute\u001b[1;34m(self, driver_command, params)\u001b[0m\n\u001b[0;32m    345\u001b[0m response \u001b[38;5;241m=\u001b[39m \u001b[38;5;28mself\u001b[39m\u001b[38;5;241m.\u001b[39mcommand_executor\u001b[38;5;241m.\u001b[39mexecute(driver_command, params)\n\u001b[0;32m    346\u001b[0m \u001b[38;5;28;01mif\u001b[39;00m response:\n\u001b[1;32m--> 347\u001b[0m     \u001b[38;5;28;43mself\u001b[39;49m\u001b[38;5;241;43m.\u001b[39;49m\u001b[43merror_handler\u001b[49m\u001b[38;5;241;43m.\u001b[39;49m\u001b[43mcheck_response\u001b[49m\u001b[43m(\u001b[49m\u001b[43mresponse\u001b[49m\u001b[43m)\u001b[49m\n\u001b[0;32m    348\u001b[0m     response[\u001b[38;5;124m\"\u001b[39m\u001b[38;5;124mvalue\u001b[39m\u001b[38;5;124m\"\u001b[39m] \u001b[38;5;241m=\u001b[39m \u001b[38;5;28mself\u001b[39m\u001b[38;5;241m.\u001b[39m_unwrap_value(response\u001b[38;5;241m.\u001b[39mget(\u001b[38;5;124m\"\u001b[39m\u001b[38;5;124mvalue\u001b[39m\u001b[38;5;124m\"\u001b[39m, \u001b[38;5;28;01mNone\u001b[39;00m))\n\u001b[0;32m    349\u001b[0m     \u001b[38;5;28;01mreturn\u001b[39;00m response\n",
      "File \u001b[1;32m~\\AppData\\Local\\Packages\\PythonSoftwareFoundation.Python.3.11_qbz5n2kfra8p0\\LocalCache\\local-packages\\Python311\\site-packages\\selenium\\webdriver\\remote\\errorhandler.py:229\u001b[0m, in \u001b[0;36mErrorHandler.check_response\u001b[1;34m(self, response)\u001b[0m\n\u001b[0;32m    227\u001b[0m         alert_text \u001b[38;5;241m=\u001b[39m value[\u001b[38;5;124m\"\u001b[39m\u001b[38;5;124malert\u001b[39m\u001b[38;5;124m\"\u001b[39m]\u001b[38;5;241m.\u001b[39mget(\u001b[38;5;124m\"\u001b[39m\u001b[38;5;124mtext\u001b[39m\u001b[38;5;124m\"\u001b[39m)\n\u001b[0;32m    228\u001b[0m     \u001b[38;5;28;01mraise\u001b[39;00m exception_class(message, screen, stacktrace, alert_text)  \u001b[38;5;66;03m# type: ignore[call-arg]  # mypy is not smart enough here\u001b[39;00m\n\u001b[1;32m--> 229\u001b[0m \u001b[38;5;28;01mraise\u001b[39;00m exception_class(message, screen, stacktrace)\n",
      "\u001b[1;31mNoSuchElementException\u001b[0m: Message: no such element: Unable to locate element: {\"method\":\"css selector\",\"selector\":\"#nasa_product_categories-6 > ul > li.cat-item.cat-item-15.cat-item-ropa-premama.root-item.current-cat.active.cat-parent.li_accordion > ul > li.cat-item.cat-item-234.cat-item-pantalones-premama > a\"}\n  (Session info: chrome=130.0.6723.117); For documentation on this error, please visit: https://www.selenium.dev/documentation/webdriver/troubleshooting/errors#no-such-element-exception\nStacktrace:\n\tGetHandleVerifier [0x00007FF6DD8A38A5+3004357]\n\t(No symbol) [0x00007FF6DD539970]\n\t(No symbol) [0x00007FF6DD3E582A]\n\t(No symbol) [0x00007FF6DD435B8E]\n\t(No symbol) [0x00007FF6DD435E7C]\n\t(No symbol) [0x00007FF6DD47EC27]\n\t(No symbol) [0x00007FF6DD45BC1F]\n\t(No symbol) [0x00007FF6DD47BA4C]\n\t(No symbol) [0x00007FF6DD45B983]\n\t(No symbol) [0x00007FF6DD427628]\n\t(No symbol) [0x00007FF6DD428791]\n\tGetHandleVerifier [0x00007FF6DD8CA00D+3161901]\n\tGetHandleVerifier [0x00007FF6DD91E060+3506048]\n\tGetHandleVerifier [0x00007FF6DD91400D+3465005]\n\tGetHandleVerifier [0x00007FF6DD690EEB+830987]\n\t(No symbol) [0x00007FF6DD54467F]\n\t(No symbol) [0x00007FF6DD5409D4]\n\t(No symbol) [0x00007FF6DD540B6D]\n\t(No symbol) [0x00007FF6DD530149]\n\tBaseThreadInitThunk [0x00007FF989A6257D+29]\n\tRtlUserThreadStart [0x00007FF98BB4AF08+40]\n"
     ]
    }
   ],
   "source": [
    "from selenium.webdriver.common.by import By\n",
    "from selenium.webdriver.support.ui import WebDriverWait\n",
    "from selenium.webdriver.support import expected_conditions as EC\n",
    "from bs4 import BeautifulSoup\n",
    "from time import sleep\n",
    "from selenium import webdriver\n",
    "\n",
    "driver = webdriver.Chrome()\n",
    "# Cargar la página\n",
    "url_mercados = f\"https://www.maminess.com/categoria/ropa-premama/\"\n",
    "driver.get(url_mercados)\n",
    "driver.maximize_window()\n",
    "sleep(1)\n",
    "\n",
    "# Aceptar cookies\n",
    "driver.find_element(\"css selector\", \"#cmplz-cookiebanner-container > div > div.cmplz-buttons > button.cmplz-btn.cmplz-accept\").click()\n",
    "sleep(2)\n",
    "\n",
    "# Pinchar en la categoría de vestidos\n",
    "driver.find_element(\"css selector\", \"#nasa_product_categories-6 > ul > li.cat-item.cat-item-15.cat-item-ropa-premama.root-item.current-cat.active.cat-parent.li_accordion > ul > li.cat-item.cat-item-232.cat-item-vestidos-monos-premama > a\").click()\n",
    "sleep(5)\n",
    "\n",
    "# Listas para almacenar la información\n",
    "lista_nombres = []\n",
    "lista_precios = []\n",
    "lista_nvaloraciones = []\n",
    "\n",
    "# Bucle para recorrer filas y columnas de productos\n",
    "try:\n",
    "    for nfila in range(1, 5):  # Recorrer filas\n",
    "        for ncol in range(1, 5):  # Recorrer columnas\n",
    "            try:\n",
    "                # Espera explícita para que el producto esté listo para hacer clic\n",
    "                WebDriverWait(driver, 10).until(\n",
    "                    EC.element_to_be_clickable((By.CSS_SELECTOR, f\"#main > div.nasa-archive-product-content > div.nasa-products-page-wrap.large-9.columns.right.has-sidebar > div.nasa-archive-product-warp > div > div > div > div:nth-child({nfila}) > div:nth-child({ncol}) > div > div > div > div > div.product-info-wrap > div > div.name > a\"))\n",
    "                ).click()\n",
    "                \n",
    "                # Espera tras hacer clic\n",
    "                sleep(2)\n",
    "\n",
    "                # Extraer información del producto\n",
    "                sopa_producto = BeautifulSoup(driver.page_source, \"html.parser\")\n",
    "                \n",
    "                # Conseguir nombre\n",
    "                lista_nom = sopa_producto.findAll(\"h1\", {\"class\": \"product_title entry-title\"})\n",
    "                nombre = lista_nom[0].getText().lower().strip() if lista_nom else \"Nombre no encontrado\"\n",
    "                lista_nombres.append(nombre)\n",
    "\n",
    "                # Conseguir precio\n",
    "                lista_prec = sopa_producto.findAll(\"span\", {\"class\": \"woocommerce-Price-amount amount\"})\n",
    "                precio = lista_prec[1].getText().replace(\",\", \".\").replace(\"€\", \"\") if len(lista_prec) > 1 else \"Precio no encontrado\"\n",
    "                lista_precios.append(precio)\n",
    "                \n",
    "                # Conseguir valoraciones\n",
    "                lista_val = sopa_producto.findAll(\"div\", {\"class\": \"nasa-tab-wrap text-center\"})\n",
    "                if lista_val:\n",
    "                    texto = lista_val[0].getText()\n",
    "                    numero = re.search(r'\\((\\d+)\\)', texto)\n",
    "                    nvaloraciones = numero.group(1) if numero else \"0\"\n",
    "                else:\n",
    "                    nvaloraciones = \"No hay valoraciones\"\n",
    "                lista_nvaloraciones.append(nvaloraciones)\n",
    "\n",
    "                # Volver a la página de productos\n",
    "                driver.back()\n",
    "                \n",
    "                # Espera explícita después de regresar a la página anterior\n",
    "                WebDriverWait(driver, 10).until(\n",
    "                    EC.presence_of_element_located((By.CSS_SELECTOR, \"#main .nasa-products-page-wrap\"))\n",
    "                )\n",
    "\n",
    "            except Exception as e:\n",
    "                print(f\"Error al procesar el producto en fila {nfila} columna {ncol}: {e}\")\n",
    "                driver.execute_script(\"window.scrollBy(0, 300);\")\n",
    "                continue\n",
    "\n",
    "except Exception as e:\n",
    "    print(f\"Error general: {e}\")\n",
    "\n",
    "#pinchar en la categoria pantalones/leggins\n",
    "driver.find_element(\"css selector\", \"#nasa_product_categories-6 > ul > li.cat-item.cat-item-15.cat-item-ropa-premama.root-item.current-cat.active.cat-parent.li_accordion > ul > li.cat-item.cat-item-234.cat-item-pantalones-premama > a\").click()\n",
    "sleep(8)\n",
    "\n",
    "lista_nombresp = []\n",
    "lista_preciosp = []\n",
    "lista_nvaloracionesp = []\n",
    "\n",
    "# Bucle para recorrer filas y columnas de productos\n",
    "try:\n",
    "    for nfila in range(1, 5):  # Recorrer filas\n",
    "        for ncol in range(1, 5):  # Recorrer columnas\n",
    "            try:\n",
    "                # Espera explícita para que el producto esté listo para hacer clic\n",
    "                WebDriverWait(driver, 10).until(\n",
    "                    EC.element_to_be_clickable((By.CSS_SELECTOR, f\"#main > div.nasa-archive-product-content > div.nasa-products-page-wrap.large-9.columns.right.has-sidebar > div.nasa-archive-product-warp > div > div > div > div:nth-child({nfila}) > div:nth-child({ncol}) > div > div > div > div > div.product-info-wrap > div > div.name > a\"))\n",
    "                ).click()\n",
    "                \n",
    "                # Espera tras hacer clic\n",
    "                sleep(2)\n",
    "\n",
    "                # Extraer información del producto\n",
    "                sopa_producto = BeautifulSoup(driver.page_source, \"html.parser\")\n",
    "                \n",
    "                # Conseguir nombre\n",
    "                lista_nom = sopa_producto.findAll(\"h1\", {\"class\": \"product_title entry-title\"})\n",
    "                nombre = lista_nom[0].getText().lower().strip() if lista_nom else \"Nombre no encontrado\"\n",
    "                lista_nombresp.append(nombre)\n",
    "\n",
    "                # Conseguir precio\n",
    "                lista_prec = sopa_producto.findAll(\"span\", {\"class\": \"woocommerce-Price-amount amount\"})\n",
    "                precio = lista_prec[1].getText().replace(\",\", \".\").replace(\"€\", \"\") if len(lista_prec) > 1 else \"Precio no encontrado\"\n",
    "                lista_preciosp.append(precio)\n",
    "                \n",
    "                # Conseguir valoraciones\n",
    "                lista_val = sopa_producto.findAll(\"div\", {\"class\": \"nasa-tab-wrap text-center\"})\n",
    "                if lista_val:\n",
    "                    texto = lista_val[0].getText()\n",
    "                    numero = re.search(r'\\((\\d+)\\)', texto)\n",
    "                    nvaloraciones = numero.group(1) if numero else \"0\"\n",
    "                else:\n",
    "                    nvaloraciones = \"No hay valoraciones\"\n",
    "                lista_nvaloracionesp.append(nvaloraciones)\n",
    "\n",
    "                # Volver a la página de productos\n",
    "                driver.back()\n",
    "                \n",
    "                # Espera explícita después de regresar a la página anterior\n",
    "                WebDriverWait(driver, 10).until(\n",
    "                    EC.presence_of_element_located((By.CSS_SELECTOR, \"#main .nasa-products-page-wrap\"))\n",
    "                )\n",
    "\n",
    "            except Exception as e:\n",
    "                print(f\"Error al procesar el producto en fila {nfila} columna {ncol}: {e}\")\n",
    "                driver.execute_script(\"window.scrollBy(0, 300);\")\n",
    "                continue\n",
    "\n",
    "except Exception as e:\n",
    "    print(f\"Error general: {e}\")\n",
    "\n",
    "# Cerrar el navegador\n",
    "driver.quit()\n",
    "\n",
    "# Resultado\n",
    "print(lista_nombres)\n",
    "print(lista_precios)\n",
    "print(lista_nvaloraciones)\n",
    "print(lista_nombresp)\n",
    "print(lista_preciosp)\n",
    "print(lista_nvaloracionesp)\n"
   ]
  },
  {
   "cell_type": "markdown",
   "metadata": {},
   "source": [
    "click en columnas2,3,4"
   ]
  },
  {
   "cell_type": "code",
   "execution_count": 59,
   "metadata": {},
   "outputs": [
    {
     "name": "stdout",
     "output_type": "stream",
     "text": [
      "Error al procesar el producto en fila 2 columna 1: Message: element not interactable\n",
      "  (Session info: chrome=130.0.6723.117)\n",
      "Stacktrace:\n",
      "\tGetHandleVerifier [0x00007FF6DD8A38A5+3004357]\n",
      "\t(No symbol) [0x00007FF6DD539970]\n",
      "\t(No symbol) [0x00007FF6DD3E5659]\n",
      "\t(No symbol) [0x00007FF6DD43702F]\n",
      "\t(No symbol) [0x00007FF6DD42996E]\n",
      "\t(No symbol) [0x00007FF6DD45BBDA]\n",
      "\t(No symbol) [0x00007FF6DD4292A6]\n",
      "\t(No symbol) [0x00007FF6DD45BDF0]\n",
      "\t(No symbol) [0x00007FF6DD47BA4C]\n",
      "\t(No symbol) [0x00007FF6DD45B983]\n",
      "\t(No symbol) [0x00007FF6DD427628]\n",
      "\t(No symbol) [0x00007FF6DD428791]\n",
      "\tGetHandleVerifier [0x00007FF6DD8CA00D+3161901]\n",
      "\tGetHandleVerifier [0x00007FF6DD91E060+3506048]\n",
      "\tGetHandleVerifier [0x00007FF6DD91400D+3465005]\n",
      "\tGetHandleVerifier [0x00007FF6DD690EEB+830987]\n",
      "\t(No symbol) [0x00007FF6DD54467F]\n",
      "\t(No symbol) [0x00007FF6DD5409D4]\n",
      "\t(No symbol) [0x00007FF6DD540B6D]\n",
      "\t(No symbol) [0x00007FF6DD530149]\n",
      "\tBaseThreadInitThunk [0x00007FF989A6257D+29]\n",
      "\tRtlUserThreadStart [0x00007FF98BB4AF08+40]\n",
      "\n"
     ]
    },
    {
     "ename": "KeyboardInterrupt",
     "evalue": "",
     "output_type": "error",
     "traceback": [
      "\u001b[1;31m---------------------------------------------------------------------------\u001b[0m",
      "\u001b[1;31mKeyboardInterrupt\u001b[0m                         Traceback (most recent call last)",
      "Cell \u001b[1;32mIn[59], line 72\u001b[0m\n\u001b[0;32m     67\u001b[0m     WebDriverWait(driver, \u001b[38;5;241m10\u001b[39m)\u001b[38;5;241m.\u001b[39muntil(\n\u001b[0;32m     68\u001b[0m         EC\u001b[38;5;241m.\u001b[39mpresence_of_element_located((By\u001b[38;5;241m.\u001b[39mCSS_SELECTOR, \u001b[38;5;124mf\u001b[39m\u001b[38;5;124m\"\u001b[39m\u001b[38;5;124m#main > div.nasa-archive-product-content > div.nasa-products-page-wrap.large-9.columns.right.has-sidebar > div.nasa-archive-product-warp > div > div > div > div:nth-child(\u001b[39m\u001b[38;5;132;01m{\u001b[39;00mnfila\u001b[38;5;132;01m}\u001b[39;00m\u001b[38;5;124m)\u001b[39m\u001b[38;5;124m\"\u001b[39m))\n\u001b[0;32m     69\u001b[0m     )\n\u001b[0;32m     71\u001b[0m     \u001b[38;5;66;03m# Espera adicional tras la recarga\u001b[39;00m\n\u001b[1;32m---> 72\u001b[0m     sleep(\u001b[38;5;241m1\u001b[39m)\n\u001b[0;32m     74\u001b[0m \u001b[38;5;28;01mexcept\u001b[39;00m \u001b[38;5;167;01mException\u001b[39;00m \u001b[38;5;28;01mas\u001b[39;00m e:\n\u001b[0;32m     75\u001b[0m     \u001b[38;5;28mprint\u001b[39m(\u001b[38;5;124mf\u001b[39m\u001b[38;5;124m\"\u001b[39m\u001b[38;5;124mError al procesar el producto en fila \u001b[39m\u001b[38;5;132;01m{\u001b[39;00mnfila\u001b[38;5;132;01m}\u001b[39;00m\u001b[38;5;124m columna \u001b[39m\u001b[38;5;132;01m{\u001b[39;00mncol\u001b[38;5;132;01m}\u001b[39;00m\u001b[38;5;124m: \u001b[39m\u001b[38;5;132;01m{\u001b[39;00me\u001b[38;5;132;01m}\u001b[39;00m\u001b[38;5;124m\"\u001b[39m)\n",
      "\u001b[1;31mKeyboardInterrupt\u001b[0m: "
     ]
    }
   ],
   "source": [
    "from selenium.webdriver.common.by import By\n",
    "from selenium.webdriver.support.ui import WebDriverWait\n",
    "from selenium.webdriver.support import expected_conditions as EC\n",
    "from bs4 import BeautifulSoup\n",
    "from time import sleep\n",
    "from selenium import webdriver\n",
    "import re\n",
    "\n",
    "driver = webdriver.Chrome()\n",
    "# Cargar la página\n",
    "url_mercados = f\"https://www.maminess.com/categoria/ropa-premama/\"\n",
    "driver.get(url_mercados)\n",
    "driver.maximize_window()\n",
    "sleep(1)\n",
    "\n",
    "# Aceptar cookies\n",
    "driver.find_element(\"css selector\", \"#cmplz-cookiebanner-container > div > div.cmplz-buttons > button.cmplz-btn.cmplz-accept\").click()\n",
    "sleep(2)\n",
    "\n",
    "# Pinchar en la categoría de vestidos\n",
    "driver.find_element(\"css selector\", \"#nasa_product_categories-6 > ul > li.cat-item.cat-item-15.cat-item-ropa-premama.root-item.current-cat.active.cat-parent.li_accordion > ul > li.cat-item.cat-item-232.cat-item-vestidos-monos-premama > a\").click()\n",
    "sleep(5)\n",
    "\n",
    "# Listas para almacenar la información\n",
    "lista_nombres = []\n",
    "lista_precios = []\n",
    "lista_nvaloraciones = []\n",
    "\n",
    "# Bucle para recorrer filas y columnas de productos\n",
    "try:\n",
    "    for nfila in range(1, 5):  # Recorrer filas\n",
    "        for ncol in range(1, 5):  # Recorrer columnas\n",
    "            try:\n",
    "                sleep(8)\n",
    "                # Espera explícita para que el producto esté listo para hacer clic\n",
    "                driver.find_element(\"css selector\", f\"#main > div.nasa-archive-product-content > div.nasa-products-page-wrap.large-9.columns.right.has-sidebar > div.nasa-archive-product-warp > div > div > div > div:nth-child({nfila}) > div:nth-child({ncol}) > div > div > div > div > div.product-info-wrap > div > div.name > a\").click()\n",
    "                # Espera tras hacer clic\n",
    "                sleep(2)\n",
    "\n",
    "                # Extraer información del producto\n",
    "                sopa_producto = BeautifulSoup(driver.page_source, \"html.parser\")\n",
    "                \n",
    "                # Conseguir nombre\n",
    "                lista_nom = sopa_producto.findAll(\"h1\", {\"class\": \"product_title entry-title\"})\n",
    "                nombre = lista_nom[0].getText().lower().strip() if lista_nom else \"Nombre no encontrado\"\n",
    "                lista_nombres.append(nombre)\n",
    "\n",
    "                # Conseguir precio\n",
    "                lista_prec = sopa_producto.findAll(\"span\", {\"class\": \"woocommerce-Price-amount amount\"})\n",
    "                precio = lista_prec[1].getText().replace(\",\", \".\").replace(\"€\", \"\") if len(lista_prec) > 1 else \"Precio no encontrado\"\n",
    "                lista_precios.append(precio)\n",
    "                \n",
    "                # Conseguir valoraciones\n",
    "                lista_val = sopa_producto.findAll(\"div\", {\"class\": \"nasa-tab-wrap text-center\"})\n",
    "                if lista_val:\n",
    "                    texto = lista_val[0].getText()\n",
    "                    numero = re.search(r'\\((\\d+)\\)', texto)\n",
    "                    nvaloraciones = numero.group(1) if numero else \"0\"\n",
    "                else:\n",
    "                    nvaloraciones = \"No hay valoraciones\"\n",
    "                lista_nvaloraciones.append(nvaloraciones)\n",
    "\n",
    "                # Volver a la página de productos\n",
    "                driver.back()\n",
    "                \n",
    "                # Espera explícita después de regresar a la página anterior\n",
    "                WebDriverWait(driver, 10).until(\n",
    "                    EC.presence_of_element_located((By.CSS_SELECTOR, f\"#main > div.nasa-archive-product-content > div.nasa-products-page-wrap.large-9.columns.right.has-sidebar > div.nasa-archive-product-warp > div > div > div > div:nth-child({nfila})\"))\n",
    "                )\n",
    "                \n",
    "                # Espera adicional tras la recarga\n",
    "                sleep(1)\n",
    "\n",
    "            except Exception as e:\n",
    "                print(f\"Error al procesar el producto en fila {nfila} columna {ncol}: {e}\")\n",
    "                driver.execute_script(\"window.scrollBy(0, 300);\")\n",
    "                continue\n",
    "\n",
    "except Exception as e:\n",
    "    print(f\"Error general: {e}\")\n",
    "\n",
    "# Cerrar el navegador\n",
    "driver.quit()\n",
    "\n",
    "# Resultado\n",
    "print(lista_nombres)\n",
    "print(lista_precios)\n",
    "print(lista_nvaloraciones)\n"
   ]
  },
  {
   "cell_type": "markdown",
   "metadata": {},
   "source": [
    "NUEVO EMPIECE"
   ]
  },
  {
   "cell_type": "markdown",
   "metadata": {},
   "source": [
    "Como no tiene valoraciones voy a hacer que de cada pagina me coja su nombre y precio solo"
   ]
  },
  {
   "cell_type": "code",
   "execution_count": null,
   "metadata": {},
   "outputs": [],
   "source": [
    "lista_url_cat=[\"vestidos-monos-premama/\", \"ropa-premama/pantalones-premama/\"]\n",
    "for cat in lista_url_cat:\n",
    "    for pag in range(1,4):\n",
    "        try:\n",
    "            url_mercados = f\"https://www.maminess.com/categoria/ropa-premama/{cat}page/{pag}/\"\n",
    "            res_producto = requests.get(url_mercados)\n",
    "            sopa_producto = BeautifulSoup(res_producto.content, \"html.parser\")\n",
    "            \n",
    "                        # Conseguir nombre\n",
    "                        lista_nom = sopa_producto.findAll(\"h1\", {\"class\": \"product_title entry-title\"})\n",
    "                        nombre = lista_nom[0].getText().lower().strip() if lista_nom else \"Nombre no encontrado\"\n",
    "                        lista_nombres.append(nombre)\n",
    "\n",
    "                        # Conseguir precio\n",
    "                        lista_prec = sopa_producto.findAll(\"span\", {\"class\": \"woocommerce-Price-amount amount\"})\n",
    "                        precio = lista_prec[1].getText().replace(\",\", \".\").replace(\"€\", \"\") if len(lista_prec) > 1 else \"Precio no encontrado\"\n",
    "                        lista_precios.append(precio)\n",
    "                        \n",
    "                        # Conseguir valoraciones\n",
    "                        lista_val = sopa_producto.findAll(\"div\", {\"class\": \"nasa-tab-wrap text-center\"})\n",
    "                        if lista_val:\n",
    "                            texto = lista_val[0].getText()\n",
    "                            numero = re.search(r'\\((\\d+)\\)', texto)\n",
    "                            nvaloraciones = numero.group(1) if numero else \"0\"\n",
    "                        else:\n",
    "                            nvaloraciones = \"No hay valoraciones\"\n",
    "                        lista_nvaloraciones.append(nvaloraciones)\n",
    "\n",
    "                        # Volver a la página de productos\n",
    "                        driver.back()\n",
    "                        \n",
    "                        # Espera explícita después de regresar a la página anterior\n",
    "                        WebDriverWait(driver, 10).until(\n",
    "                            EC.presence_of_element_located((By.CSS_SELECTOR, \"#main .nasa-products-page-wrap\"))\n",
    "                        )\n",
    "            \n",
    "        except:\n",
    "            continue\n"
   ]
  },
  {
   "cell_type": "code",
   "execution_count": 96,
   "metadata": {},
   "outputs": [],
   "source": [
    "lista_nom_gen = sopa_producto.findAll(\"div\", {\"class\" :\"nasa-archive-product-warp\"})"
   ]
  },
  {
   "cell_type": "code",
   "execution_count": 97,
   "metadata": {},
   "outputs": [
    {
     "data": {
      "text/plain": [
       "[]"
      ]
     },
     "execution_count": 97,
     "metadata": {},
     "output_type": "execute_result"
    }
   ],
   "source": [
    "lista_nom_gen"
   ]
  },
  {
   "cell_type": "code",
   "execution_count": null,
   "metadata": {},
   "outputs": [],
   "source": [
    "<a href=\"https://www.maminess.com/producto/ropa-premama/vestidos-monos-premama/vestido-premama-punto-beige-frida/\" title=\"Vestido Premamá Punto Beige Frida\"><div class=\"main-img\"><noscript><img width=\"450\" height=\"600\" src=\"https://www.maminess.com/wp-content/uploads/2022/12/vestido-premama-punto-beige-frida-2-450x600.jpg\" class=\"attachment-shop_catalog size-shop_catalog\" alt=\"vestido-premama-punto-beige-frida\" /></noscript><img width=\"450\" height=\"600\" src=\"https://www.maminess.com/wp-content/uploads/2022/12/vestido-premama-punto-beige-frida-2-450x600.jpg\" data-src=\"https://www.maminess.com/wp-content/uploads/2022/12/vestido-premama-punto-beige-frida-2-450x600.jpg\" class=\"attachment-shop_catalog size-shop_catalog ls-is-cached lazyloaded\" alt=\"vestido-premama-punto-beige-frida\"></div><div class=\"back-img back\"><noscript><img width=\"450\" height=\"600\" src=\"https://www.maminess.com/wp-content/uploads/2022/12/vestido-premama-punto-beige-frida-5-450x600.jpg\" class=\"attachment-shop_catalog size-shop_catalog\" alt=\"\" /></noscript><img width=\"450\" height=\"600\" src=\"https://www.maminess.com/wp-content/uploads/2022/12/vestido-premama-punto-beige-frida-5-450x600.jpg\" data-src=\"https://www.maminess.com/wp-content/uploads/2022/12/vestido-premama-punto-beige-frida-5-450x600.jpg\" class=\"attachment-shop_catalog size-shop_catalog ls-is-cached lazyloaded\" alt=\"\"></div> </a>"
   ]
  },
  {
   "cell_type": "code",
   "execution_count": null,
   "metadata": {},
   "outputs": [],
   "source": [
    "<li class=\"cat-item cat-item-15 cat-item-ropa-premama root-item cat-parent li_accordion current-cat-parent active\"><a href=\"javascript:void(0);\" class=\"accordion\" data-class_show=\"pe-7s-plus\" data-class_hide=\"pe-7s-less\"><span class=\"icon pe-7s-less\"></span></a><a href=\"https://www.maminess.com/categoria/ropa-premama/\" data-id=\"15\" class=\"nasa-filter-by-cat\">Ropa Premamá</a><ul class=\"children\"><li class=\"cat-item cat-item-232 cat-item-vestidos-monos-premama current-cat active\"><a href=\"https://www.maminess.com/categoria/ropa-premama/vestidos-monos-premama/\" data-id=\"232\" class=\"nasa-filter-by-cat nasa-active\">Vestidos y monos Premamá</a></li><li class=\"cat-item cat-item-233 cat-item-tops-premama\"><a href=\"https://www.maminess.com/categoria/ropa-premama/tops-premama/\" data-id=\"233\" class=\"nasa-filter-by-cat\">Tops premamá</a></li><li class=\"cat-item cat-item-234 cat-item-pantalones-premama\"><a href=\"https://www.maminess.com/categoria/ropa-premama/pantalones-premama/\" data-id=\"234\" class=\"nasa-filter-by-cat\">Pantalones y Faldas</a></li><li class=\"cat-item cat-item-236 cat-item-banadores\"><a href=\"https://www.maminess.com/categoria/ropa-premama/banadores/\" data-id=\"236\" class=\"nasa-filter-by-cat\">Bañadores</a></li><li class=\"cat-item cat-item-237 cat-item-vestidos-fiesta-premama\"><a href=\"https://www.maminess.com/categoria/ropa-premama/vestidos-fiesta-premama/\" data-id=\"237\" class=\"nasa-filter-by-cat\">Vestidos de Fiesta</a></li><li class=\"cat-item cat-item-291 cat-item-pijamas-y-camisones\"><a href=\"https://www.maminess.com/categoria/ropa-premama/pijamas-y-camisones/\" data-id=\"291\" class=\"nasa-filter-by-cat\">Pijamas y Camisones</a></li><li class=\"cat-item cat-item-306 cat-item-promocion-hasta-60\"><a href=\"https://www.maminess.com/categoria/ropa-premama/promocion-hasta-60/\" data-id=\"306\" class=\"nasa-filter-by-cat\">Promo hasta -60%</a></li></ul></li>"
   ]
  },
  {
   "cell_type": "code",
   "execution_count": 174,
   "metadata": {},
   "outputs": [],
   "source": [
    "lista_nombres = []\n",
    "lista_precios = []\n",
    "lista_nvaloraciones = []\n",
    "lista_url_cat=[\"vestidos-monos-premama/\", \"ropa-premama/pantalones-premama/\"]\n",
    "for cat in lista_url_cat:\n",
    "    for pag in range(1,4):\n",
    "        try:\n",
    "            driver = webdriver.Chrome()\n",
    "            # Cargar la página\n",
    "            url_mercados = f\"https://www.maminess.com/categoria/ropa-premama/{cat}page/{pag}/\"\n",
    "            driver.get(url_mercados)\n",
    "            driver.maximize_window()\n",
    "            \n",
    "            \n",
    "            driver.execute_script(\"window.scrollBy(0, 1500);\")\n",
    "            sleep(1)\n",
    "            contenido=driver.find_element(By.CSS_SELECTOR,\"#main > div.nasa-archive-product-content > div.nasa-products-page-wrap.large-9.columns.right.has-sidebar > div.nasa-archive-product-warp\").get_attribute(\"innerHTML\")\n",
    "            contenidoHTML = BeautifulSoup(contenido, \"html.parser\")\n",
    "\n",
    "\n",
    "            #conseguir html producto\n",
    "            lista_links_prod=contenidoHTML.find_all(\"div\", {\"class\": \"name\"})\n",
    "            lista_html_prod=[lil.find(\"a\")[\"href\"]for lil in lista_links_prod]\n",
    "            \n",
    "            #meto el htm de cada producto para sacar sus datos\n",
    "            res = requests.get(lista_html_prod)\n",
    "            sopa = BeautifulSoup(res.content, \"html.parser\")\n",
    "\n",
    "            # Conseguir nombre\n",
    "            lista_nom = sopa.findAll(\"h1\", {\"class\": \"product_title entry-title\"})\n",
    "            nombre = lista_nom[0].getText().lower().strip()\n",
    "            print(nombre)\n",
    "            lista_nombres.append(nombre)\n",
    "            print(lista_nombres[-1])\n",
    "            # Conseguir precio\n",
    "            lista_prec = sopa.findAll(\"span\", {\"class\": \"woocommerce-Price-amount amount\"})\n",
    "            precio = lista_prec[1].getText().replace(\",\", \".\").replace(\"€\", \"\")\n",
    "            lista_precios.append(precio)\n",
    "            \n",
    "            # Conseguir valoraciones\n",
    "            lista_val = sopa.findAll(\"div\", {\"class\": \"nasa-tab-wrap text-center\"})\n",
    "            if lista_val:\n",
    "                texto = lista_val[0].getText()\n",
    "                numero = re.search(r'\\((\\d+)\\)', texto)\n",
    "                nvaloraciones = numero.group(1) if numero else \"0\"\n",
    "            else:\n",
    "                nvaloraciones = \"No hay valoraciones\"\n",
    "            lista_nvaloraciones.append(nvaloraciones)\n",
    "\n",
    "            \n",
    "        \n",
    "\n",
    "\n",
    "\n",
    "\n",
    "        except:\n",
    "            continue"
   ]
  },
  {
   "cell_type": "code",
   "execution_count": 165,
   "metadata": {},
   "outputs": [
    {
     "data": {
      "text/plain": [
       "[]"
      ]
     },
     "execution_count": 165,
     "metadata": {},
     "output_type": "execute_result"
    }
   ],
   "source": [
    "lista_nvaloraciones"
   ]
  },
  {
   "cell_type": "code",
   "execution_count": 175,
   "metadata": {},
   "outputs": [
    {
     "ename": "NameError",
     "evalue": "name 'sopa' is not defined",
     "output_type": "error",
     "traceback": [
      "\u001b[1;31m---------------------------------------------------------------------------\u001b[0m",
      "\u001b[1;31mNameError\u001b[0m                                 Traceback (most recent call last)",
      "Cell \u001b[1;32mIn[175], line 1\u001b[0m\n\u001b[1;32m----> 1\u001b[0m \u001b[43msopa\u001b[49m\n",
      "\u001b[1;31mNameError\u001b[0m: name 'sopa' is not defined"
     ]
    }
   ],
   "source": [
    "sopa"
   ]
  },
  {
   "cell_type": "code",
   "execution_count": 170,
   "metadata": {},
   "outputs": [
    {
     "ename": "NameError",
     "evalue": "name 'sopa' is not defined",
     "output_type": "error",
     "traceback": [
      "\u001b[1;31m---------------------------------------------------------------------------\u001b[0m",
      "\u001b[1;31mNameError\u001b[0m                                 Traceback (most recent call last)",
      "Cell \u001b[1;32mIn[170], line 1\u001b[0m\n\u001b[1;32m----> 1\u001b[0m lista_nom \u001b[38;5;241m=\u001b[39m \u001b[43msopa\u001b[49m\u001b[38;5;241m.\u001b[39mfindAll(\u001b[38;5;124m\"\u001b[39m\u001b[38;5;124mh1\u001b[39m\u001b[38;5;124m\"\u001b[39m, {\u001b[38;5;124m\"\u001b[39m\u001b[38;5;124mclass\u001b[39m\u001b[38;5;124m\"\u001b[39m: \u001b[38;5;124m\"\u001b[39m\u001b[38;5;124mproduct_title entry-title\u001b[39m\u001b[38;5;124m\"\u001b[39m})\n\u001b[0;32m      2\u001b[0m nombre \u001b[38;5;241m=\u001b[39m lista_nom[\u001b[38;5;241m0\u001b[39m]\u001b[38;5;241m.\u001b[39mgetText()\u001b[38;5;241m.\u001b[39mlower()\u001b[38;5;241m.\u001b[39mstrip()\n\u001b[0;32m      3\u001b[0m lista_nombres\u001b[38;5;241m.\u001b[39mappend(nombre)\n",
      "\u001b[1;31mNameError\u001b[0m: name 'sopa' is not defined"
     ]
    }
   ],
   "source": [
    "lista_nom = sopa.findAll(\"h1\", {\"class\": \"product_title entry-title\"})\n",
    "nombre = lista_nom[0].getText().lower().strip()\n",
    "lista_nombres.append(nombre)"
   ]
  },
  {
   "cell_type": "code",
   "execution_count": 168,
   "metadata": {},
   "outputs": [
    {
     "data": {
      "text/plain": [
       "'peto vaquero premamá savanna'"
      ]
     },
     "execution_count": 168,
     "metadata": {},
     "output_type": "execute_result"
    }
   ],
   "source": [
    "nombre"
   ]
  },
  {
   "cell_type": "code",
   "execution_count": 171,
   "metadata": {},
   "outputs": [
    {
     "data": {
      "text/plain": [
       "[]"
      ]
     },
     "execution_count": 171,
     "metadata": {},
     "output_type": "execute_result"
    }
   ],
   "source": [
    "lista_nombres"
   ]
  },
  {
   "cell_type": "code",
   "execution_count": 141,
   "metadata": {},
   "outputs": [
    {
     "data": {
      "text/plain": [
       "321"
      ]
     },
     "execution_count": 141,
     "metadata": {},
     "output_type": "execute_result"
    }
   ],
   "source": [
    "len(contenidoHTML.find_all(\"div\")[0].find_all(\"div\"))"
   ]
  },
  {
   "cell_type": "code",
   "execution_count": 151,
   "metadata": {},
   "outputs": [],
   "source": [
    "lista_links_prod=contenidoHTML.find_all(\"div\", {\"class\": \"name\"})"
   ]
  },
  {
   "cell_type": "code",
   "execution_count": 156,
   "metadata": {},
   "outputs": [
    {
     "data": {
      "text/plain": [
       "[<div class=\"name\"> <a href=\"https://www.maminess.com/producto/ropa-premama/pantalones-premama/vaqueros-premama-sophia-gris/\" title=\"Vaqueros Premamá Sophia Gris\"> Vaqueros Premamá Sophia Gris </a></div>,\n",
       " <div class=\"name\"> <a href=\"https://www.maminess.com/producto/ropa-premama/pantalones-premama/pantalon-deportivo-premama-tencel-negro/\" title=\"Pantalón Deportivo Premamá Tencel Negro\"> Pantalón Deportivo Premamá Tencel Negro </a></div>,\n",
       " <div class=\"name\"> <a href=\"https://www.maminess.com/producto/ropa-premama/pantalones-premama/pantalon-deportivo-premama-sostenible-tancel-laurel/\" title=\"Pantalón Deportivo Premamá Tencel Laurel\"> Pantalón Deportivo Premamá Tencel Laurel </a></div>,\n",
       " <div class=\"name\"> <a href=\"https://www.maminess.com/producto/ropa-premama/pantalones-premama/vaqueros-premama-slim-alicia-2/\" title=\"Vaqueros Premamá Slim Alicia\"> Vaqueros Premamá Slim Alicia </a></div>,\n",
       " <div class=\"name\"> <a href=\"https://www.maminess.com/producto/ropa-premama/vestidos-monos-premama/falda-premama-midi-flores/\" title=\"Falda Premamá Midi Flores\"> Falda Premamá Midi Flores </a></div>,\n",
       " <div class=\"name\"> <a href=\"https://www.maminess.com/producto/ropa-premama/pantalones-premama/vaquero-premama-lola-slim-negro/\" title=\"Vaquero Premamá Lola Slim Negro\"> Vaquero Premamá Lola Slim Negro </a></div>]"
      ]
     },
     "execution_count": 156,
     "metadata": {},
     "output_type": "execute_result"
    }
   ],
   "source": [
    "lista_links_prod"
   ]
  },
  {
   "cell_type": "code",
   "execution_count": 155,
   "metadata": {},
   "outputs": [
    {
     "data": {
      "text/plain": [
       "'https://www.maminess.com/producto/ropa-premama/pantalones-premama/vaqueros-premama-sophia-gris/'"
      ]
     },
     "execution_count": 155,
     "metadata": {},
     "output_type": "execute_result"
    }
   ],
   "source": [
    "lista_links_prod[0].find(\"a\")[\"href\"]"
   ]
  },
  {
   "cell_type": "code",
   "execution_count": 159,
   "metadata": {},
   "outputs": [],
   "source": [
    "lista_html_prod=[lil.find(\"a\")[\"href\"]for lil in lista_links_prod]"
   ]
  },
  {
   "cell_type": "code",
   "execution_count": 160,
   "metadata": {},
   "outputs": [
    {
     "data": {
      "text/plain": [
       "['https://www.maminess.com/producto/ropa-premama/pantalones-premama/vaqueros-premama-sophia-gris/',\n",
       " 'https://www.maminess.com/producto/ropa-premama/pantalones-premama/pantalon-deportivo-premama-tencel-negro/',\n",
       " 'https://www.maminess.com/producto/ropa-premama/pantalones-premama/pantalon-deportivo-premama-sostenible-tancel-laurel/',\n",
       " 'https://www.maminess.com/producto/ropa-premama/pantalones-premama/vaqueros-premama-slim-alicia-2/',\n",
       " 'https://www.maminess.com/producto/ropa-premama/vestidos-monos-premama/falda-premama-midi-flores/',\n",
       " 'https://www.maminess.com/producto/ropa-premama/pantalones-premama/vaquero-premama-lola-slim-negro/']"
      ]
     },
     "execution_count": 160,
     "metadata": {},
     "output_type": "execute_result"
    }
   ],
   "source": [
    "lista_html_prod"
   ]
  },
  {
   "cell_type": "code",
   "execution_count": 132,
   "metadata": {},
   "outputs": [],
   "source": [
    "lista_prec = sopa_producto.findAll(\"div\", {\"class\" :\"product-warp-item columns large-3 small-6 medium-6\"})\n",
    "\n",
    "#<span class=\"price\"><del><span class=\"woocommerce-Price-amount amount\"><bdi>44,90<span class=\"woocommerce-Price-currencySymbol\">€</span></bdi></span></del> <ins><span class=\"woocommerce-Price-amount amount\"><bdi>34,90<span class=\"woocommerce-Price-currencySymbol\">€</span></bdi></span></ins></span>"
   ]
  },
  {
   "cell_type": "code",
   "execution_count": 133,
   "metadata": {},
   "outputs": [
    {
     "data": {
      "text/plain": [
       "[]"
      ]
     },
     "execution_count": 133,
     "metadata": {},
     "output_type": "execute_result"
    }
   ],
   "source": [
    "lista_prec"
   ]
  },
  {
   "cell_type": "code",
   "execution_count": 108,
   "metadata": {},
   "outputs": [
    {
     "data": {
      "text/plain": [
       "['44,90',\n",
       " '39,90',\n",
       " '',\n",
       " '',\n",
       " '',\n",
       " '69,90',\n",
       " '69,90',\n",
       " '44,90 19,90',\n",
       " '44,90 19,90',\n",
       " '26,90 18,90',\n",
       " '26,90 18,90',\n",
       " '29,90 24,90',\n",
       " '49,90 29,90',\n",
       " '49,90 29,90',\n",
       " '29,90 14,90',\n",
       " '29,90 14,90',\n",
       " '44,90 26,90',\n",
       " '44,90 26,90',\n",
       " '49,90 24,90',\n",
       " '49,90 24,90',\n",
       " '49,90 29,90',\n",
       " '49,90 29,90',\n",
       " '34,90',\n",
       " '34,90',\n",
       " '69,90 39,90',\n",
       " '69,90 39,90',\n",
       " '44,90 18,90',\n",
       " '44,90 18,90']"
      ]
     },
     "execution_count": 108,
     "metadata": {},
     "output_type": "execute_result"
    }
   ],
   "source": [
    "lista_prec\n",
    "lista_precio=[prec.getText().strip().replace(\"€\", \"\") for prec in lista_prec]\n",
    "lista_precio"
   ]
  }
 ],
 "metadata": {
  "kernelspec": {
   "display_name": "Python 3",
   "language": "python",
   "name": "python3"
  },
  "language_info": {
   "codemirror_mode": {
    "name": "ipython",
    "version": 3
   },
   "file_extension": ".py",
   "mimetype": "text/x-python",
   "name": "python",
   "nbconvert_exporter": "python",
   "pygments_lexer": "ipython3",
   "version": "3.11.9"
  }
 },
 "nbformat": 4,
 "nbformat_minor": 2
}
